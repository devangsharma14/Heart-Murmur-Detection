{
 "cells": [
  {
   "cell_type": "code",
   "execution_count": 1,
   "metadata": {},
   "outputs": [],
   "source": [
    "tc = {0:'Murmur', 1: 'Normal'}"
   ]
  },
  {
   "cell_type": "code",
   "execution_count": 2,
   "metadata": {},
   "outputs": [
    {
     "name": "stderr",
     "output_type": "stream",
     "text": [
      "Using TensorFlow backend.\n"
     ]
    }
   ],
   "source": [
    "from keras.models import Sequential\n",
    "from keras.layers import Dense, Conv2D, MaxPooling2D, Dropout, Flatten"
   ]
  },
  {
   "cell_type": "code",
   "execution_count": 6,
   "metadata": {},
   "outputs": [],
   "source": [
    "model = Sequential()\n",
    "    \n",
    "model.add(Conv2D(32, (3, 3), padding='same', activation='relu', input_shape= (64, 64, 3)))\n",
    "    \n",
    "model.add(MaxPooling2D(pool_size=(2, 2)))\n",
    "    \n",
    "model.add(Conv2D(64, (3, 3), activation='relu'))\n",
    "model.add(MaxPooling2D(pool_size=(2, 2)))\n",
    "   \n",
    "model.add(Conv2D(64, (3, 3), activation='relu'))\n",
    "model.add(MaxPooling2D(pool_size=(2, 2)))\n",
    "model.add(Dropout(0.25))\n",
    " \n",
    "model.add(Flatten())\n",
    "    \n",
    "model.add(Dense(units = 128, activation='relu'))\n",
    "model.add(Dropout(0.25))\n",
    "    \n",
    "model.add(Dense(units = 1, activation='sigmoid'))\n",
    "     \n",
    "model.compile(optimizer = 'adam', loss = 'binary_crossentropy', metrics = ['accuracy'])"
   ]
  },
  {
   "cell_type": "code",
   "execution_count": 7,
   "metadata": {},
   "outputs": [
    {
     "name": "stdout",
     "output_type": "stream",
     "text": [
      "Found 51 images belonging to 2 classes.\n",
      "Found 14 images belonging to 2 classes.\n"
     ]
    }
   ],
   "source": [
    "from keras.preprocessing.image import ImageDataGenerator\n",
    "\n",
    "train_datagen = ImageDataGenerator(rescale = 1./255,\n",
    "                                   shear_range = 0.2,\n",
    "                                   zoom_range = 0.2,\n",
    "                                   horizontal_flip = True)\n",
    "\n",
    "test_datagen = ImageDataGenerator(rescale = 1./255)\n",
    "\n",
    "training_set = train_datagen.flow_from_directory('/floyd/input/experiment/Training',\n",
    "                                                 target_size = (64, 64),\n",
    "                                                 batch_size = 16,\n",
    "                                                 class_mode = 'binary')\n",
    "\n",
    "test_set = test_datagen.flow_from_directory('/floyd/input/experiment/Validation',\n",
    "                                            target_size = (64, 64),\n",
    "                                            batch_size = 16,\n",
    "                                            class_mode = 'binary')"
   ]
  },
  {
   "cell_type": "code",
   "execution_count": 8,
   "metadata": {},
   "outputs": [
    {
     "name": "stdout",
     "output_type": "stream",
     "text": [
      "Epoch 1/30\n",
      "51/51 [==============================] - 42s 826ms/step - loss: 0.6884 - acc: 0.5370 - val_loss: 0.6884 - val_acc: 0.5000\n",
      "Epoch 2/30\n",
      "51/51 [==============================] - 41s 801ms/step - loss: 0.4893 - acc: 0.7401 - val_loss: 0.9009 - val_acc: 0.7143\n",
      "Epoch 3/30\n",
      "51/51 [==============================] - 41s 801ms/step - loss: 0.4409 - acc: 0.7635 - val_loss: 1.5851 - val_acc: 0.7143\n",
      "Epoch 4/30\n",
      "51/51 [==============================] - 40s 789ms/step - loss: 0.3861 - acc: 0.8052 - val_loss: 2.0922 - val_acc: 0.7143\n",
      "Epoch 5/30\n",
      "51/51 [==============================] - 39s 768ms/step - loss: 0.3706 - acc: 0.8074 - val_loss: 2.7474 - val_acc: 0.7143\n",
      "Epoch 6/30\n",
      "51/51 [==============================] - 41s 804ms/step - loss: 0.4031 - acc: 0.7819 - val_loss: 2.7293 - val_acc: 0.7143\n",
      "Epoch 7/30\n",
      "51/51 [==============================] - 41s 801ms/step - loss: 0.3676 - acc: 0.7759 - val_loss: 2.3229 - val_acc: 0.5714\n",
      "Epoch 8/30\n",
      "51/51 [==============================] - 40s 790ms/step - loss: 0.3333 - acc: 0.7960 - val_loss: 3.3275 - val_acc: 0.6429\n",
      "Epoch 9/30\n",
      "51/51 [==============================] - 39s 759ms/step - loss: 0.3652 - acc: 0.7810 - val_loss: 2.8421 - val_acc: 0.7143\n",
      "Epoch 10/30\n",
      "51/51 [==============================] - 41s 804ms/step - loss: 0.3201 - acc: 0.8353 - val_loss: 4.2312 - val_acc: 0.6429\n",
      "Epoch 11/30\n",
      "51/51 [==============================] - 41s 810ms/step - loss: 0.3397 - acc: 0.8198 - val_loss: 3.7938 - val_acc: 0.6429\n",
      "Epoch 12/30\n",
      "51/51 [==============================] - 41s 795ms/step - loss: 0.3044 - acc: 0.8222 - val_loss: 4.6988 - val_acc: 0.6429\n",
      "Epoch 13/30\n",
      "51/51 [==============================] - 40s 781ms/step - loss: 0.3814 - acc: 0.7848 - val_loss: 1.5256 - val_acc: 0.7143\n",
      "Epoch 14/30\n",
      "51/51 [==============================] - 41s 808ms/step - loss: 0.3907 - acc: 0.7814 - val_loss: 2.9987 - val_acc: 0.7143\n",
      "Epoch 15/30\n",
      "51/51 [==============================] - 41s 797ms/step - loss: 0.3044 - acc: 0.8360 - val_loss: 4.5443 - val_acc: 0.6429\n",
      "Epoch 16/30\n",
      "51/51 [==============================] - 40s 793ms/step - loss: 0.3507 - acc: 0.8143 - val_loss: 4.4015 - val_acc: 0.6429\n",
      "Epoch 17/30\n",
      "51/51 [==============================] - 39s 768ms/step - loss: 0.2879 - acc: 0.8738 - val_loss: 4.7347 - val_acc: 0.6429\n",
      "Epoch 18/30\n",
      "51/51 [==============================] - 41s 805ms/step - loss: 0.3167 - acc: 0.8360 - val_loss: 4.6956 - val_acc: 0.7143\n",
      "Epoch 19/30\n",
      "51/51 [==============================] - 41s 805ms/step - loss: 0.3644 - acc: 0.8213 - val_loss: 3.9426 - val_acc: 0.5714\n",
      "Epoch 20/30\n",
      "51/51 [==============================] - 40s 786ms/step - loss: 0.3395 - acc: 0.8231 - val_loss: 4.3579 - val_acc: 0.7143\n",
      "Epoch 21/30\n",
      "51/51 [==============================] - 39s 766ms/step - loss: 0.2816 - acc: 0.8625 - val_loss: 4.7063 - val_acc: 0.6429\n",
      "Epoch 22/30\n",
      "51/51 [==============================] - 43s 845ms/step - loss: 0.2475 - acc: 0.8957 - val_loss: 4.6810 - val_acc: 0.6429\n",
      "Epoch 23/30\n",
      "51/51 [==============================] - 58s 1s/step - loss: 0.2894 - acc: 0.8582 - val_loss: 4.7320 - val_acc: 0.6429\n",
      "Epoch 24/30\n",
      "51/51 [==============================] - 45s 875ms/step - loss: 0.2649 - acc: 0.8542 - val_loss: 4.6500 - val_acc: 0.7143\n",
      "Epoch 25/30\n",
      "51/51 [==============================] - 41s 810ms/step - loss: 0.2834 - acc: 0.8641 - val_loss: 4.6291 - val_acc: 0.7143\n",
      "Epoch 26/30\n",
      "51/51 [==============================] - 44s 857ms/step - loss: 0.1980 - acc: 0.9268 - val_loss: 4.6370 - val_acc: 0.7143\n",
      "Epoch 27/30\n",
      "51/51 [==============================] - 41s 806ms/step - loss: 0.2129 - acc: 0.9038 - val_loss: 4.6548 - val_acc: 0.7143\n",
      "Epoch 28/30\n",
      "51/51 [==============================] - 40s 793ms/step - loss: 0.2037 - acc: 0.9095 - val_loss: 4.6186 - val_acc: 0.7143\n",
      "Epoch 29/30\n",
      "51/51 [==============================] - 39s 773ms/step - loss: 0.1769 - acc: 0.9302 - val_loss: 4.6139 - val_acc: 0.7143\n",
      "Epoch 30/30\n",
      "51/51 [==============================] - 41s 802ms/step - loss: 0.1985 - acc: 0.9129 - val_loss: 4.6259 - val_acc: 0.7143\n"
     ]
    },
    {
     "data": {
      "text/plain": [
       "<keras.callbacks.History at 0x7f5cbe764e80>"
      ]
     },
     "execution_count": 8,
     "metadata": {},
     "output_type": "execute_result"
    }
   ],
   "source": [
    "model.fit_generator(training_set,\n",
    "                         steps_per_epoch = 51,\n",
    "                         epochs = 30,\n",
    "                         validation_data = test_set,\n",
    "                         validation_steps = 14)"
   ]
  },
  {
   "cell_type": "code",
   "execution_count": null,
   "metadata": {},
   "outputs": [],
   "source": []
  }
 ],
 "metadata": {
  "kernelspec": {
   "display_name": "Python 3",
   "language": "python",
   "name": "python3"
  },
  "language_info": {
   "codemirror_mode": {
    "name": "ipython",
    "version": 3
   },
   "file_extension": ".py",
   "mimetype": "text/x-python",
   "name": "python",
   "nbconvert_exporter": "python",
   "pygments_lexer": "ipython3",
   "version": "3.6.5"
  }
 },
 "nbformat": 4,
 "nbformat_minor": 2
}
